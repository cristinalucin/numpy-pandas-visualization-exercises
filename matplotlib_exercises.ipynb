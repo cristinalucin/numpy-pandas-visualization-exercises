{
 "cells": [
  {
   "cell_type": "code",
   "execution_count": null,
   "id": "83482785",
   "metadata": {},
   "outputs": [],
   "source": [
    "#import pyplot module as alias plt\n",
    "import matplotlib.pyplot as plt  \n",
    "\n",
    "#import other libraries \n",
    "import numpy as np\n",
    "import math\n",
    "from random import randint\n",
    "import random\n",
    "import pandas as pd\n",
    "%config InlineBackend.figure_format = 'retina'"
   ]
  },
  {
   "cell_type": "code",
   "execution_count": null,
   "id": "6d852e92",
   "metadata": {},
   "outputs": [],
   "source": [
    "# 1 Use matplotlib to plot the following equation:\n",
    "#y = x ** 2 − x + 2\n",
    "# You'll need to write the code that generates the x and y points.\n",
    "#Add an anotation for the point 0, 0, the origin.\n",
    "\n",
    "x = list(range(-49, 50))\n",
    "y = [(x ** 2 - x + 2) for x in x]\n",
    "plt.scatter(x, y)\n",
    "plt.title('Parabola')\n",
    "plt.xlabel('$x$')\n",
    "plt.ylabel('$x^2$')\n",
    "plt.annotate('Origin', xy=(0, 0), xytext=(0, 300),\n",
    "             arrowprops={'facecolor': 'blue'})\n",
    "plt.show()\n",
    "\n",
    "#save the figure\n",
    "#plt.savefig('figure1.png')"
   ]
  },
  {
   "cell_type": "markdown",
   "id": "41a2fb63",
   "metadata": {},
   "source": [
    "### 2. Create and label four separate charts for the following equations (choose a range for x that makes sense)"
   ]
  },
  {
   "cell_type": "code",
   "execution_count": null,
   "id": "0541d1cc",
   "metadata": {},
   "outputs": [],
   "source": [
    "# y=√x\n",
    "x = list(range(0, 100))\n",
    "y= [np.sqrt(x) for x in x]\n",
    "fig, ax = plt.subplots()\n",
    "ax.set_title('$y=√x$')\n",
    "ax.plot(x, y)\n",
    "plt.show()"
   ]
  },
  {
   "cell_type": "code",
   "execution_count": null,
   "id": "c4d21a90",
   "metadata": {},
   "outputs": [],
   "source": [
    "#y=2**x\n",
    "x = list(range(0, 10))\n",
    "y = [(2 ** x) for x in x]\n",
    "fig, ax = plt.subplots()\n",
    "ax.set_title('$y=2^x$')\n",
    "ax.plot(x, y)\n",
    "plt.show()"
   ]
  },
  {
   "cell_type": "code",
   "execution_count": null,
   "id": "25667015",
   "metadata": {},
   "outputs": [],
   "source": [
    "#y=x**3\n",
    "x = list(range(0, 10))\n",
    "y= [(x ** 3) for x in x]\n",
    "fig, ax = plt.subplots()\n",
    "ax.set_title('$y=x^3$')\n",
    "ax.plot(x, y)\n",
    "plt.show()"
   ]
  },
  {
   "cell_type": "code",
   "execution_count": null,
   "id": "a214680e",
   "metadata": {},
   "outputs": [],
   "source": [
    "# 1/(x+1)\n",
    "x = list(range(0, 10))\n",
    "y = [(1/(n+1)) for n in x]\n",
    "fig, ax = plt.subplots()\n",
    "ax.set_title('$1/(x+1)$')\n",
    "ax.plot(x, y)\n",
    "plt.show()"
   ]
  },
  {
   "cell_type": "code",
   "execution_count": null,
   "id": "fff7b334",
   "metadata": {},
   "outputs": [],
   "source": [
    "# 3 Combine the figures you created in the last step into one large figure with 4 subplots.\n",
    "x = list(range(0, 10))\n",
    "y1 = [(2 ** x) for x in x]\n",
    "y2 = [(x ** 3) for x in x]\n",
    "y3 = [np.sqrt(x) for x in x]\n",
    "y4 = [(1/(n+1)) for n in x]\n",
    "\n",
    "plt.figure(figsize = (10,6))\n",
    "plt.suptitle('More Math Functions')\n",
    "\n",
    "plt.subplot(221)\n",
    "plt.plot(x, y1,color = 'r', ls = '--')\n",
    "plt.title('$y=2^x$')\n",
    "\n",
    "plt.subplot(222)\n",
    "plt.plot(x, y2,color = 'b', ls = '--', marker = '^')\n",
    "plt.title('$y=x^3$')\n",
    "\n",
    "plt.subplot(223)\n",
    "plt.plot(x, y3,color = 'g', ls = '--', marker = 'o')\n",
    "plt.title('$y=√x$')\n",
    "\n",
    "plt.subplot(224)\n",
    "plt.plot(x, y4,color = 'm', ls = '--', marker = 'v')\n",
    "plt.axhline(0, color = 'm')\n",
    "plt.fill_between(x, y4, color = 'm', alpha= 0.9)\n",
    "plt.title('$1/(x+1)$')\n",
    "\n",
    "# alpha = controls transperancy\n",
    "\n",
    "plt.tight_layout()\n",
    "plt.show()"
   ]
  },
  {
   "cell_type": "code",
   "execution_count": null,
   "id": "099aebc4",
   "metadata": {},
   "outputs": [],
   "source": [
    "#4 Combine the figures you created in the last step into one figure where each of the 4 \n",
    "# equations has a different color for the points. Be sure to include a legend and an appropriate title for the figure.\n",
    "\n",
    "x = range(0, 5)\n",
    "two_squared = [(2 ** x) for x in x]\n",
    "sqr_rt_x = [(x ** 3) for x in x]\n",
    "x_cubed = [np.sqrt(x) for x in x]\n",
    "inverse_x_plus_one = [(1/(n+1)) for n in x]\n",
    "\n",
    "plt.figure(figsize=(14, 6)) # (width, height)\n",
    "\n",
    "plt.plot(x, two_squared, c='blue', label='$y=2^x$')\n",
    "plt.plot(x, sqr_rt_x, c='orange', label ='$y=x^3$')\n",
    "plt.plot(x, x_cubed, c='green', label='$y=√x$')\n",
    "plt.plot(x, inverse_x_plus_one, c='red', label='$1/(x+1)$')\n",
    "\n",
    "\n",
    "plt.legend(loc='upper right')\n",
    "plt.title('Four Functions Together')\n",
    "plt.xlabel('$x$')\n",
    "\n",
    "plt.show()"
   ]
  },
  {
   "cell_type": "code",
   "execution_count": null,
   "id": "c45f6399",
   "metadata": {},
   "outputs": [],
   "source": []
  }
 ],
 "metadata": {
  "kernelspec": {
   "display_name": "Python 3 (ipykernel)",
   "language": "python",
   "name": "python3"
  },
  "language_info": {
   "codemirror_mode": {
    "name": "ipython",
    "version": 3
   },
   "file_extension": ".py",
   "mimetype": "text/x-python",
   "name": "python",
   "nbconvert_exporter": "python",
   "pygments_lexer": "ipython3",
   "version": "3.9.12"
  }
 },
 "nbformat": 4,
 "nbformat_minor": 5
}
