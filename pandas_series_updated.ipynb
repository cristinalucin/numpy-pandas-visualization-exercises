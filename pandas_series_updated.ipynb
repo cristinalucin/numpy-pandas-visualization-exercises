{
 "cells": [
  {
   "cell_type": "code",
   "execution_count": null,
   "id": "5b0f9cbd",
   "metadata": {},
   "outputs": [],
   "source": [
    "##import\n",
    "import numpy as np\n",
    "import pandas as pd\n",
    "import matplotlib.pyplot as plt"
   ]
  },
  {
   "cell_type": "code",
   "execution_count": null,
   "id": "8032ef80",
   "metadata": {},
   "outputs": [],
   "source": [
    "fruits = [\"kiwi\", \"mango\", \"strawberry\", \"pineapple\", \"gala apple\", \"honeycrisp apple\", \"tomato\", \"watermelon\", \"honeydew\", \"kiwi\", \"kiwi\", \"kiwi\", \"mango\", \"blueberry\", \"blackberry\", \"gooseberry\", \"papaya\"]"
   ]
  },
  {
   "cell_type": "code",
   "execution_count": null,
   "id": "34aa4803",
   "metadata": {},
   "outputs": [],
   "source": [
    "#1. Determine the number of elements in fruits.\n",
    "fruit_series = pd.Series([\"kiwi\", \"mango\", \"strawberry\", \"pineapple\", \"gala apple\", \"honeycrisp apple\", \"tomato\", \"watermelon\", \"honeydew\", \"kiwi\", \"kiwi\", \"kiwi\", \"mango\", \"blueberry\", \"blackberry\", \"gooseberry\", \"papaya\"])\n",
    "fruit_series.size\n"
   ]
  },
  {
   "cell_type": "code",
   "execution_count": null,
   "id": "4522dd01",
   "metadata": {},
   "outputs": [],
   "source": [
    "#2 Output only the index from fruits.\n",
    "print(fruit_series.index)\n",
    "list(fruit_series.index)"
   ]
  },
  {
   "cell_type": "code",
   "execution_count": null,
   "id": "cb52c359",
   "metadata": {},
   "outputs": [],
   "source": [
    "#3 Output only the values from fruits.\n",
    "print(fruit_series.values)"
   ]
  },
  {
   "cell_type": "code",
   "execution_count": null,
   "id": "09978ce8",
   "metadata": {},
   "outputs": [],
   "source": [
    "#4 Confirm the data type of the values in fruits.\n",
    "print(fruit_series.dtype)"
   ]
  },
  {
   "cell_type": "code",
   "execution_count": null,
   "id": "12abc606",
   "metadata": {},
   "outputs": [],
   "source": [
    "#5 Output only the first five values from fruits. Output the last three values. Output two random values from fruits.\n",
    "\n",
    "print(fruit_series.head(5))\n",
    "print(fruit_series.tail(5))\n",
    "print(fruit_series.sample(2))"
   ]
  },
  {
   "cell_type": "code",
   "execution_count": null,
   "id": "4ec94834",
   "metadata": {},
   "outputs": [],
   "source": [
    "# 6 Run the .describe() on fruits to see what information it returns when called on a Series with string values.\n",
    "print(fruit_series.describe())"
   ]
  },
  {
   "cell_type": "code",
   "execution_count": null,
   "id": "6601e496",
   "metadata": {},
   "outputs": [],
   "source": [
    "# 7 Run the code necessary to produce only the unique string values from fruits.\n",
    "print(fruit_series.unique())"
   ]
  },
  {
   "cell_type": "code",
   "execution_count": null,
   "id": "0f7227b4",
   "metadata": {},
   "outputs": [],
   "source": [
    "# 8 Determine how many times each unique string value occurs in fruits.\n",
    "print(fruit_series.value_counts())"
   ]
  },
  {
   "cell_type": "code",
   "execution_count": null,
   "id": "0995edc8",
   "metadata": {},
   "outputs": [],
   "source": [
    "# 9 Determine the string value that occurs most frequently in fruits.\n",
    "fruit_counts = fruit_series.value_counts()\n",
    "print(max(fruit_counts))\n",
    "fruit_counts.nlargest(n = 1, keep='all')"
   ]
  },
  {
   "cell_type": "markdown",
   "id": "4c7a4687",
   "metadata": {},
   "source": [
    "### Exercises Part 2"
   ]
  },
  {
   "cell_type": "code",
   "execution_count": null,
   "id": "8b0812b6",
   "metadata": {},
   "outputs": [],
   "source": [
    "# 1 Capitalize all the string values in fruits.\n",
    "print(fruit_series.str.capitalize())"
   ]
  },
  {
   "cell_type": "code",
   "execution_count": null,
   "id": "32287d0d",
   "metadata": {},
   "outputs": [],
   "source": [
    "#2 Count the letter \"a\" in all the string values (use string vectorization).\n",
    "fruit_series.str.count('a')"
   ]
  },
  {
   "cell_type": "code",
   "execution_count": null,
   "id": "59f14404",
   "metadata": {},
   "outputs": [],
   "source": [
    "#3 Output the number of vowels in each and every string value.\n",
    "fruit_series.str.count(r'[aeiou]')"
   ]
  },
  {
   "cell_type": "code",
   "execution_count": null,
   "id": "b4a8ac73",
   "metadata": {
    "scrolled": true
   },
   "outputs": [],
   "source": [
    "# 4 Write the code to get the longest string value from fruits.\n",
    "fruit_series.apply(str).map(len).max()"
   ]
  },
  {
   "cell_type": "code",
   "execution_count": null,
   "id": "8f46cf24",
   "metadata": {},
   "outputs": [],
   "source": [
    "# Using IDX Max https://www.statology.org/idxmax-pandas/\n",
    "fruit_series[fruit_series.str.len().idxmax()]"
   ]
  },
  {
   "cell_type": "code",
   "execution_count": null,
   "id": "a1303bec",
   "metadata": {},
   "outputs": [],
   "source": [
    "# 5 Write the code to get the string values with 5 or more letters in the name.\n",
    "fruit_series.apply(str).map(len)\n",
    "fruit_series[fruit_series.str.len() >=5]"
   ]
  },
  {
   "cell_type": "code",
   "execution_count": null,
   "id": "5808ccfd",
   "metadata": {},
   "outputs": [],
   "source": [
    "#6 Find the fruit(s) containing the letter \"o\" two or more times.\n",
    "fruit_series[fruit_series.str.count('o') >=2]"
   ]
  },
  {
   "cell_type": "code",
   "execution_count": null,
   "id": "2ac02556",
   "metadata": {},
   "outputs": [],
   "source": [
    "# 7 Write the code to get only the string values containing the substring \"berry\".\n",
    "fruit_series[fruit_series.str.contains(\"berry\")]"
   ]
  },
  {
   "cell_type": "code",
   "execution_count": null,
   "id": "af006956",
   "metadata": {},
   "outputs": [],
   "source": [
    "# 8 Write the code to get only the string values containing the substring \"apple\".\n",
    "fruit_series[fruit_series.str.contains(\"apple\")]"
   ]
  },
  {
   "cell_type": "code",
   "execution_count": null,
   "id": "e2a14da2",
   "metadata": {},
   "outputs": [],
   "source": [
    "#9 Which string value contains the most vowels?\n",
    "fruit_series[fruit_series.str.count('a|e|i|o|u').max()]"
   ]
  },
  {
   "cell_type": "markdown",
   "id": "3f3b5362",
   "metadata": {},
   "source": [
    "### Exercises Part III\n",
    "Use pandas to create a Series named letters from the following string. The easiest way to make this string into a Pandas series is to use list to convert each individual letter into a single string on a basic Python list."
   ]
  },
  {
   "cell_type": "code",
   "execution_count": null,
   "id": "e144ad0f",
   "metadata": {},
   "outputs": [],
   "source": [
    "random_letters =     'hnvidduckkqxwymbimkccexbkmqygkxoyndmcxnwqarhyffsjpsrabtjzsypmzadfavyrnndndvswreauxovncxtwzpwejilzjrmmbbgbyxvjtewqthafnbkqplarokkyydtubbmnexoypulzwfhqvckdpqtpoppzqrmcvhhpwgjwupgzhiofohawytlsiyecuproguy'\n",
    "list(random_letters)\n",
    "random_list = list(random_letters)\n",
    "random_series = pd.Series(random_list)\n",
    "print(random_series)"
   ]
  },
  {
   "cell_type": "code",
   "execution_count": null,
   "id": "636446e4",
   "metadata": {},
   "outputs": [],
   "source": [
    "# 1 Which letter occurs the most frequently in the letters Series?\n",
    "random_series[random_series.value_counts().max()]"
   ]
  },
  {
   "cell_type": "code",
   "execution_count": null,
   "id": "052884a9",
   "metadata": {},
   "outputs": [],
   "source": [
    "# 2 Which letter occurs the Least frequently?\n",
    "random_series[random_series.value_counts().min()]"
   ]
  },
  {
   "cell_type": "code",
   "execution_count": null,
   "id": "564429b5",
   "metadata": {},
   "outputs": [],
   "source": [
    "# 3 How many vowels are in the Series?\n",
    "vowels = list('aeiou')\n",
    "random_series[random_series.isin(vowels)].count()"
   ]
  },
  {
   "cell_type": "code",
   "execution_count": null,
   "id": "c8689eb7",
   "metadata": {},
   "outputs": [],
   "source": [
    "# 4 How many consonants are in the Series?\n",
    "consonants = random_series.size - random_series[random_series.isin(vowels)].count()\n",
    "consonants"
   ]
  },
  {
   "cell_type": "code",
   "execution_count": null,
   "id": "fef6083c",
   "metadata": {},
   "outputs": [],
   "source": [
    "# 5 Create a Series that has all of the same letters but uppercased.\n",
    "upper_letters = random_series.str.upper()\n",
    "upper_letters"
   ]
  },
  {
   "cell_type": "code",
   "execution_count": null,
   "id": "e4760398",
   "metadata": {},
   "outputs": [],
   "source": [
    "# 6. Create a bar plot of the frequencies of the 6 most commonly occuring letters.\n",
    "common_letters = random_series.value_counts().head(6)\n",
    "common_letters"
   ]
  },
  {
   "cell_type": "code",
   "execution_count": null,
   "id": "68db096a",
   "metadata": {},
   "outputs": [],
   "source": [
    "# plotting the dataframe\n",
    "common_letters.plot.bar()\n",
    "plt.xticks(rotation = 0)\n",
    "plt.xlabel(\"Letters\")\n",
    "plt.ylabel(\"Frequency of Letters\")"
   ]
  },
  {
   "cell_type": "markdown",
   "id": "b4fe0001",
   "metadata": {},
   "source": [
    "#### Use pandas to create a Series named numbers from the following list:"
   ]
  },
  {
   "cell_type": "code",
   "execution_count": null,
   "id": "470a9623",
   "metadata": {},
   "outputs": [],
   "source": [
    "numbers =   ['$796,459.41', '$278.60', '$482,571.67', '$4,503,915.98', '$2,121,418.3', '$1,260,813.3', '$87,231.01', '$1,509,175.45', '$4,138,548.00', '$2,848,913.80', '$594,715.39', '$4,789,988.17', '$4,513,644.5', '$3,191,059.97', '$1,758,712.24', '$4,338,283.54', '$4,738,303.38', '$2,791,759.67', '$769,681.94', '$452,650.23']\n",
    "numbers = pd.Series(numbers)\n",
    "numbers.head()"
   ]
  },
  {
   "cell_type": "code",
   "execution_count": null,
   "id": "36671d2e",
   "metadata": {},
   "outputs": [],
   "source": [
    "# 1. What is the data type of the numbers Series?\n",
    "# object"
   ]
  },
  {
   "cell_type": "code",
   "execution_count": null,
   "id": "75e15afd",
   "metadata": {},
   "outputs": [],
   "source": [
    "# 2. How many elements are in the number Series?\n",
    "numbers.count()"
   ]
  },
  {
   "cell_type": "code",
   "execution_count": null,
   "id": "541de0af",
   "metadata": {},
   "outputs": [],
   "source": [
    "# 3. Perform the necessary manipulations by accessing Series attributes and methods to convert the \n",
    "# numbers Series to a numeric data type.\n",
    "numbers = numbers.str.replace('$','').str.replace(',','')\n",
    "numbers = numbers.astype(float)"
   ]
  },
  {
   "cell_type": "code",
   "execution_count": null,
   "id": "8bace9dd",
   "metadata": {},
   "outputs": [],
   "source": [
    "# 4. Run the code to discover the maximum value from the Series.\n",
    "numbers.max()"
   ]
  },
  {
   "cell_type": "code",
   "execution_count": null,
   "id": "f93fd520",
   "metadata": {},
   "outputs": [],
   "source": [
    "# 5. Run the code to discover the minimum value from the Series.\n",
    "numbers.min()"
   ]
  },
  {
   "cell_type": "code",
   "execution_count": null,
   "id": "4dc7d4af",
   "metadata": {},
   "outputs": [],
   "source": [
    "# 6. What is the range of the values in the Series?\n",
    "numbers_range = numbers.max() - numbers.min()\n",
    "numbers_range"
   ]
  },
  {
   "cell_type": "code",
   "execution_count": null,
   "id": "af0874ba",
   "metadata": {},
   "outputs": [],
   "source": [
    "# 7. Bin the data into 4 equally sized intervals or bins and output how many values fall into each bin.\n",
    "pd.cut(numbers, 4).value_counts()"
   ]
  },
  {
   "cell_type": "code",
   "execution_count": null,
   "id": "5a1e6fb8",
   "metadata": {},
   "outputs": [],
   "source": [
    "# 8. Plot the binned data in a meaningful way. Be sure to include a title and axis labels.\n",
    "binned_data = pd.cut(numbers, 4).value_counts()\n",
    "binned_data.plot.bar(title='Binned Data', \n",
    "                                                                            rot=0, \n",
    "                                                                            color='firebrick', \n",
    "                                                                            ec='black',\n",
    "                                                                            width=.9).set(xlabel='Letter',\n",
    "                                                                                         ylabel='Frequency')\n",
    "\n",
    "plt.show()"
   ]
  },
  {
   "cell_type": "code",
   "execution_count": null,
   "id": "031af679",
   "metadata": {},
   "outputs": [],
   "source": [
    "# Use pandas to create a Series named exam_scores from the following list:\n",
    "exam_scores = pd.Series([60, 86, 75, 62, 93, 71, 60, 83, 95, 78, 65, 72, 69, 81, 96, 80, 85, 92, 82, 78])"
   ]
  },
  {
   "cell_type": "code",
   "execution_count": null,
   "id": "11522e2a",
   "metadata": {},
   "outputs": [],
   "source": [
    "# 1 How many elements are in the exam_scores Series?\n",
    "exam_scores.size"
   ]
  },
  {
   "cell_type": "code",
   "execution_count": null,
   "id": "bac71136",
   "metadata": {},
   "outputs": [],
   "source": [
    "# 2 Run the code to discover the minimum, the maximum, the mean, and the median scores for the exam_scores Series.\n",
    "exam_scores.max(), exam_scores.min(), exam_scores.mean(), exam_scores.median()\n"
   ]
  },
  {
   "cell_type": "code",
   "execution_count": null,
   "id": "ef0b7175",
   "metadata": {},
   "outputs": [],
   "source": [
    "# 3 Plot the Series in a meaningful way and make sure your chart has a title and axis labels."
   ]
  },
  {
   "cell_type": "code",
   "execution_count": null,
   "id": "2b66dced",
   "metadata": {},
   "outputs": [],
   "source": [
    "# 4 Write the code necessary to implement a curve for your exam_grades Series and save this as curved_grades. Add the necessary points to the highest grade to make it 100, and add the same number of points to every other score in the Series as well.\n",
    "curved_grade = exam_scores + (100-exam_scores.max())\n",
    "curved_grade.max()"
   ]
  },
  {
   "cell_type": "code",
   "execution_count": null,
   "id": "35b82cb8",
   "metadata": {},
   "outputs": [],
   "source": [
    "# 5 Use a method to convert each of the numeric values in the curved_grades Series into a categorical value of letter grades. For example, 86 should be a 'B' and 95 should be an 'A'. Save this as a Series named letter_grades.\n",
    "bin_edges = [0, 70, 75, 80, 90, 100]\n",
    "bin_labels = ['F', 'D', 'C', 'B', 'A']\n",
    "letter_grades = pd.cut(curved_grade, bins=bin_edges,labels=bin_labels)\n",
    "\n",
    "letter_grades\n"
   ]
  },
  {
   "cell_type": "code",
   "execution_count": null,
   "id": "8afa0fbc",
   "metadata": {},
   "outputs": [],
   "source": [
    "\n",
    "# 6 Plot your new categorical letter_grades Series in a meaninful way and include a title and axis labels.\n",
    "letter_grades.value_counts().sort_index().plot.barh()\n",
    "plt.title('Curved Letter Grade Distribution')\n",
    "plt.show()\n"
   ]
  }
 ],
 "metadata": {
  "kernelspec": {
   "display_name": "Python 3 (ipykernel)",
   "language": "python",
   "name": "python3"
  },
  "language_info": {
   "codemirror_mode": {
    "name": "ipython",
    "version": 3
   },
   "file_extension": ".py",
   "mimetype": "text/x-python",
   "name": "python",
   "nbconvert_exporter": "python",
   "pygments_lexer": "ipython3",
   "version": "3.9.12"
  }
 },
 "nbformat": 4,
 "nbformat_minor": 5
}
