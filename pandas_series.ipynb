{
 "cells": [
  {
   "cell_type": "code",
   "execution_count": 1,
   "id": "5b0f9cbd",
   "metadata": {},
   "outputs": [],
   "source": [
    "##import\n",
    "import numpy as np\n",
    "import pandas as pd\n",
    "import matplotlib.pyplot as plt"
   ]
  },
  {
   "cell_type": "code",
   "execution_count": 2,
   "id": "8032ef80",
   "metadata": {},
   "outputs": [],
   "source": [
    "fruits = [\"kiwi\", \"mango\", \"strawberry\", \"pineapple\", \"gala apple\", \"honeycrisp apple\", \"tomato\", \"watermelon\", \"honeydew\", \"kiwi\", \"kiwi\", \"kiwi\", \"mango\", \"blueberry\", \"blackberry\", \"gooseberry\", \"papaya\"]"
   ]
  },
  {
   "cell_type": "code",
   "execution_count": 6,
   "id": "34aa4803",
   "metadata": {},
   "outputs": [
    {
     "data": {
      "text/plain": [
       "17"
      ]
     },
     "execution_count": 6,
     "metadata": {},
     "output_type": "execute_result"
    }
   ],
   "source": [
    "#1. Determine the number of elements in fruits.\n",
    "fruit_series = pd.Series([\"kiwi\", \"mango\", \"strawberry\", \"pineapple\", \"gala apple\", \"honeycrisp apple\", \"tomato\", \"watermelon\", \"honeydew\", \"kiwi\", \"kiwi\", \"kiwi\", \"mango\", \"blueberry\", \"blackberry\", \"gooseberry\", \"papaya\"])\n",
    "fruit_series.size\n"
   ]
  },
  {
   "cell_type": "code",
   "execution_count": 10,
   "id": "4522dd01",
   "metadata": {},
   "outputs": [
    {
     "name": "stdout",
     "output_type": "stream",
     "text": [
      "RangeIndex(start=0, stop=17, step=1)\n"
     ]
    },
    {
     "data": {
      "text/plain": [
       "[0, 1, 2, 3, 4, 5, 6, 7, 8, 9, 10, 11, 12, 13, 14, 15, 16]"
      ]
     },
     "execution_count": 10,
     "metadata": {},
     "output_type": "execute_result"
    }
   ],
   "source": [
    "#2 Output only the index from fruits.\n",
    "print(fruit_series.index)\n",
    "list(fruit_series.index)"
   ]
  },
  {
   "cell_type": "code",
   "execution_count": 11,
   "id": "cb52c359",
   "metadata": {},
   "outputs": [
    {
     "name": "stdout",
     "output_type": "stream",
     "text": [
      "['kiwi' 'mango' 'strawberry' 'pineapple' 'gala apple' 'honeycrisp apple'\n",
      " 'tomato' 'watermelon' 'honeydew' 'kiwi' 'kiwi' 'kiwi' 'mango' 'blueberry'\n",
      " 'blackberry' 'gooseberry' 'papaya']\n"
     ]
    }
   ],
   "source": [
    "#3 Output only the values from fruits.\n",
    "print(fruit_series.values)"
   ]
  },
  {
   "cell_type": "code",
   "execution_count": 13,
   "id": "09978ce8",
   "metadata": {},
   "outputs": [
    {
     "name": "stdout",
     "output_type": "stream",
     "text": [
      "object\n"
     ]
    }
   ],
   "source": [
    "#4 Confirm the data type of the values in fruits.\n",
    "print(fruit_series.dtype)"
   ]
  },
  {
   "cell_type": "code",
   "execution_count": 19,
   "id": "12abc606",
   "metadata": {},
   "outputs": [
    {
     "name": "stdout",
     "output_type": "stream",
     "text": [
      "0          kiwi\n",
      "1         mango\n",
      "2    strawberry\n",
      "3     pineapple\n",
      "4    gala apple\n",
      "dtype: object\n",
      "12         mango\n",
      "13     blueberry\n",
      "14    blackberry\n",
      "15    gooseberry\n",
      "16        papaya\n",
      "dtype: object\n",
      "4    gala apple\n",
      "6        tomato\n",
      "dtype: object\n"
     ]
    }
   ],
   "source": [
    "#5 Output only the first five values from fruits. Output the last three values. Output two random values from fruits.\n",
    "\n",
    "print(fruit_series.head(5))\n",
    "print(fruit_series.tail(5))\n",
    "print(fruit_series.sample(2))"
   ]
  },
  {
   "cell_type": "code",
   "execution_count": 20,
   "id": "4ec94834",
   "metadata": {},
   "outputs": [
    {
     "name": "stdout",
     "output_type": "stream",
     "text": [
      "count       17\n",
      "unique      13\n",
      "top       kiwi\n",
      "freq         4\n",
      "dtype: object\n"
     ]
    }
   ],
   "source": [
    "# 6 Run the .describe() on fruits to see what information it returns when called on a Series with string values.\n",
    "print(fruit_series.describe())"
   ]
  },
  {
   "cell_type": "code",
   "execution_count": 21,
   "id": "6601e496",
   "metadata": {},
   "outputs": [
    {
     "name": "stdout",
     "output_type": "stream",
     "text": [
      "['kiwi' 'mango' 'strawberry' 'pineapple' 'gala apple' 'honeycrisp apple'\n",
      " 'tomato' 'watermelon' 'honeydew' 'blueberry' 'blackberry' 'gooseberry'\n",
      " 'papaya']\n"
     ]
    }
   ],
   "source": [
    "# 7 Run the code necessary to produce only the unique string values from fruits.\n",
    "print(fruit_series.unique())"
   ]
  },
  {
   "cell_type": "code",
   "execution_count": 22,
   "id": "0f7227b4",
   "metadata": {},
   "outputs": [
    {
     "name": "stdout",
     "output_type": "stream",
     "text": [
      "kiwi                4\n",
      "mango               2\n",
      "strawberry          1\n",
      "pineapple           1\n",
      "gala apple          1\n",
      "honeycrisp apple    1\n",
      "tomato              1\n",
      "watermelon          1\n",
      "honeydew            1\n",
      "blueberry           1\n",
      "blackberry          1\n",
      "gooseberry          1\n",
      "papaya              1\n",
      "dtype: int64\n"
     ]
    }
   ],
   "source": [
    "# 8 Determine how many times each unique string value occurs in fruits.\n",
    "print(fruit_series.value_counts())"
   ]
  },
  {
   "cell_type": "code",
   "execution_count": 33,
   "id": "0995edc8",
   "metadata": {},
   "outputs": [
    {
     "name": "stdout",
     "output_type": "stream",
     "text": [
      "4\n"
     ]
    },
    {
     "data": {
      "text/plain": [
       "kiwi    4\n",
       "dtype: int64"
      ]
     },
     "execution_count": 33,
     "metadata": {},
     "output_type": "execute_result"
    }
   ],
   "source": [
    "# 9 Determine the string value that occurs most frequently in fruits.\n",
    "fruit_counts = fruit_series.value_counts()\n",
    "print(max(fruit_counts))\n",
    "fruit_counts.nlargest(n = 1, keep='all')"
   ]
  },
  {
   "cell_type": "markdown",
   "id": "4c7a4687",
   "metadata": {},
   "source": [
    "### Exercises Part 2"
   ]
  },
  {
   "cell_type": "code",
   "execution_count": 35,
   "id": "8b0812b6",
   "metadata": {},
   "outputs": [
    {
     "name": "stdout",
     "output_type": "stream",
     "text": [
      "0                 Kiwi\n",
      "1                Mango\n",
      "2           Strawberry\n",
      "3            Pineapple\n",
      "4           Gala apple\n",
      "5     Honeycrisp apple\n",
      "6               Tomato\n",
      "7           Watermelon\n",
      "8             Honeydew\n",
      "9                 Kiwi\n",
      "10                Kiwi\n",
      "11                Kiwi\n",
      "12               Mango\n",
      "13           Blueberry\n",
      "14          Blackberry\n",
      "15          Gooseberry\n",
      "16              Papaya\n",
      "dtype: object\n"
     ]
    }
   ],
   "source": [
    "# 1 Capitalize all the string values in fruits.\n",
    "print(fruit_series.str.capitalize())"
   ]
  },
  {
   "cell_type": "code",
   "execution_count": 38,
   "id": "32287d0d",
   "metadata": {},
   "outputs": [
    {
     "data": {
      "text/plain": [
       "0     0\n",
       "1     1\n",
       "2     1\n",
       "3     1\n",
       "4     3\n",
       "5     1\n",
       "6     1\n",
       "7     1\n",
       "8     0\n",
       "9     0\n",
       "10    0\n",
       "11    0\n",
       "12    1\n",
       "13    0\n",
       "14    1\n",
       "15    0\n",
       "16    3\n",
       "dtype: int64"
      ]
     },
     "execution_count": 38,
     "metadata": {},
     "output_type": "execute_result"
    }
   ],
   "source": [
    "#2 Count the letter \"a\" in all the string values (use string vectorization).\n",
    "fruit_series.str.count('a')"
   ]
  },
  {
   "cell_type": "code",
   "execution_count": 41,
   "id": "59f14404",
   "metadata": {},
   "outputs": [
    {
     "data": {
      "text/plain": [
       "0     2\n",
       "1     2\n",
       "2     2\n",
       "3     4\n",
       "4     4\n",
       "5     5\n",
       "6     3\n",
       "7     4\n",
       "8     3\n",
       "9     2\n",
       "10    2\n",
       "11    2\n",
       "12    2\n",
       "13    3\n",
       "14    2\n",
       "15    4\n",
       "16    3\n",
       "dtype: int64"
      ]
     },
     "execution_count": 41,
     "metadata": {},
     "output_type": "execute_result"
    }
   ],
   "source": [
    "#3 Output the number of vowels in each and every string value.\n",
    "fruit_series.str.count(r'[aeiou]')"
   ]
  },
  {
   "cell_type": "code",
   "execution_count": 47,
   "id": "b4a8ac73",
   "metadata": {
    "scrolled": true
   },
   "outputs": [
    {
     "data": {
      "text/plain": [
       "16"
      ]
     },
     "execution_count": 47,
     "metadata": {},
     "output_type": "execute_result"
    }
   ],
   "source": [
    "# 4 Write the code to get the longest string value from fruits.\n",
    "fruit_series.apply(str).map(len).max()"
   ]
  },
  {
   "cell_type": "code",
   "execution_count": 48,
   "id": "8f46cf24",
   "metadata": {},
   "outputs": [
    {
     "data": {
      "text/plain": [
       "'honeycrisp apple'"
      ]
     },
     "execution_count": 48,
     "metadata": {},
     "output_type": "execute_result"
    }
   ],
   "source": [
    "# Using IDX Max https://www.statology.org/idxmax-pandas/\n",
    "fruit_series[fruit_series.str.len().idxmax()]"
   ]
  },
  {
   "cell_type": "code",
   "execution_count": 57,
   "id": "a1303bec",
   "metadata": {},
   "outputs": [
    {
     "data": {
      "text/plain": [
       "1                mango\n",
       "2           strawberry\n",
       "3            pineapple\n",
       "4           gala apple\n",
       "5     honeycrisp apple\n",
       "6               tomato\n",
       "7           watermelon\n",
       "8             honeydew\n",
       "12               mango\n",
       "13           blueberry\n",
       "14          blackberry\n",
       "15          gooseberry\n",
       "16              papaya\n",
       "dtype: object"
      ]
     },
     "execution_count": 57,
     "metadata": {},
     "output_type": "execute_result"
    }
   ],
   "source": [
    "# 5 Write the code to get the string values with 5 or more letters in the name.\n",
    "fruit_series.apply(str).map(len)\n",
    "fruit_series[fruit_series.str.len() >=5]"
   ]
  },
  {
   "cell_type": "code",
   "execution_count": 58,
   "id": "5808ccfd",
   "metadata": {},
   "outputs": [
    {
     "data": {
      "text/plain": [
       "6         tomato\n",
       "15    gooseberry\n",
       "dtype: object"
      ]
     },
     "execution_count": 58,
     "metadata": {},
     "output_type": "execute_result"
    }
   ],
   "source": [
    "#6 Find the fruit(s) containing the letter \"o\" two or more times.\n",
    "fruit_series[fruit_series.str.count('o') >=2]"
   ]
  },
  {
   "cell_type": "code",
   "execution_count": 66,
   "id": "2ac02556",
   "metadata": {},
   "outputs": [
    {
     "data": {
      "text/plain": [
       "2     strawberry\n",
       "13     blueberry\n",
       "14    blackberry\n",
       "15    gooseberry\n",
       "dtype: object"
      ]
     },
     "execution_count": 66,
     "metadata": {},
     "output_type": "execute_result"
    }
   ],
   "source": [
    "# 7 Write the code to get only the string values containing the substring \"berry\".\n",
    "fruit_series[fruit_series.str.contains(\"berry\")]"
   ]
  },
  {
   "cell_type": "code",
   "execution_count": 67,
   "id": "af006956",
   "metadata": {},
   "outputs": [
    {
     "data": {
      "text/plain": [
       "3           pineapple\n",
       "4          gala apple\n",
       "5    honeycrisp apple\n",
       "dtype: object"
      ]
     },
     "execution_count": 67,
     "metadata": {},
     "output_type": "execute_result"
    }
   ],
   "source": [
    "# 8 Write the code to get only the string values containing the substring \"apple\".\n",
    "fruit_series[fruit_series.str.contains(\"apple\")]"
   ]
  },
  {
   "cell_type": "code",
   "execution_count": 75,
   "id": "e2a14da2",
   "metadata": {},
   "outputs": [
    {
     "data": {
      "text/plain": [
       "'honeycrisp apple'"
      ]
     },
     "execution_count": 75,
     "metadata": {},
     "output_type": "execute_result"
    }
   ],
   "source": [
    "#9 Which string value contains the most vowels?\n",
    "fruit_series[fruit_series.str.count('a|e|i|o|u').max()]"
   ]
  },
  {
   "cell_type": "markdown",
   "id": "3f3b5362",
   "metadata": {},
   "source": [
    "### Exercises Part III\n",
    "Use pandas to create a Series named letters from the following string. The easiest way to make this string into a Pandas series is to use list to convert each individual letter into a single string on a basic Python list."
   ]
  },
  {
   "cell_type": "code",
   "execution_count": 87,
   "id": "e144ad0f",
   "metadata": {},
   "outputs": [
    {
     "name": "stdout",
     "output_type": "stream",
     "text": [
      "0      h\n",
      "1      n\n",
      "2      v\n",
      "3      i\n",
      "4      d\n",
      "      ..\n",
      "195    r\n",
      "196    o\n",
      "197    g\n",
      "198    u\n",
      "199    y\n",
      "Length: 200, dtype: object\n"
     ]
    }
   ],
   "source": [
    "random_letters =     'hnvidduckkqxwymbimkccexbkmqygkxoyndmcxnwqarhyffsjpsrabtjzsypmzadfavyrnndndvswreauxovncxtwzpwejilzjrmmbbgbyxvjtewqthafnbkqplarokkyydtubbmnexoypulzwfhqvckdpqtpoppzqrmcvhhpwgjwupgzhiofohawytlsiyecuproguy'\n",
    "list(random_letters)\n",
    "random_list = list(random_letters)\n",
    "random_series = pd.Series(random_list)\n",
    "print(random_series)"
   ]
  },
  {
   "cell_type": "code",
   "execution_count": 91,
   "id": "636446e4",
   "metadata": {},
   "outputs": [
    {
     "data": {
      "text/plain": [
       "'y'"
      ]
     },
     "execution_count": 91,
     "metadata": {},
     "output_type": "execute_result"
    }
   ],
   "source": [
    "# 1 Which letter occurs the most frequently in the letters Series?\n",
    "random_series[random_series.value_counts().max()]"
   ]
  },
  {
   "cell_type": "code",
   "execution_count": 92,
   "id": "052884a9",
   "metadata": {},
   "outputs": [
    {
     "data": {
      "text/plain": [
       "'d'"
      ]
     },
     "execution_count": 92,
     "metadata": {},
     "output_type": "execute_result"
    }
   ],
   "source": [
    "# 2 Which letter occurs the Least frequently?\n",
    "random_series[random_series.value_counts().min()]"
   ]
  },
  {
   "cell_type": "code",
   "execution_count": 95,
   "id": "564429b5",
   "metadata": {},
   "outputs": [
    {
     "data": {
      "text/plain": [
       "34"
      ]
     },
     "execution_count": 95,
     "metadata": {},
     "output_type": "execute_result"
    }
   ],
   "source": [
    "# 3 How many vowels are in the Series?\n",
    "vowels = list('aeiou')\n",
    "random_series[random_series.isin(vowels)].count()"
   ]
  },
  {
   "cell_type": "code",
   "execution_count": null,
   "id": "c8689eb7",
   "metadata": {},
   "outputs": [],
   "source": [
    "# 4 How many consonants are in the Series?\n"
   ]
  }
 ],
 "metadata": {
  "kernelspec": {
   "display_name": "Python 3 (ipykernel)",
   "language": "python",
   "name": "python3"
  },
  "language_info": {
   "codemirror_mode": {
    "name": "ipython",
    "version": 3
   },
   "file_extension": ".py",
   "mimetype": "text/x-python",
   "name": "python",
   "nbconvert_exporter": "python",
   "pygments_lexer": "ipython3",
   "version": "3.9.12"
  }
 },
 "nbformat": 4,
 "nbformat_minor": 5
}
